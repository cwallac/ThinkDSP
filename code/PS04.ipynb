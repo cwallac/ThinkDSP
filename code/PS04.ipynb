{
 "metadata": {
  "name": "",
  "signature": "sha256:78ed2357a60d3ebc6dbce2e1082e252dd9a1519bcb5f7bdb561c85a44dd53630"
 },
 "nbformat": 3,
 "nbformat_minor": 0,
 "worksheets": [
  {
   "cells": [
    {
     "cell_type": "markdown",
     "metadata": {},
     "source": [
      "Chris Wallace\n",
      "PS04\n"
     ]
    },
    {
     "cell_type": "markdown",
     "metadata": {},
     "source": [
      "1) Can you construct a vector of complex amplitudes that shifts all components by the same amount of time?"
     ]
    },
    {
     "cell_type": "code",
     "collapsed": false,
     "input": [
      "\n",
      "import thinkdsp\n",
      "import thinkplot\n",
      "import thinkstats2\n",
      "import math\n",
      "import numpy\n",
      "\n",
      "%precision 3\n",
      "%matplotlib inline\n",
      "\n",
      "PI2 = 2 * math.pi"
     ],
     "language": "python",
     "metadata": {},
     "outputs": [],
     "prompt_number": 4
    },
    {
     "cell_type": "code",
     "collapsed": false,
     "input": [
      "def synthesize2(amps, freqs, ts):\n",
      "    i = complex(0, 1)\n",
      "    args = numpy.outer(ts, freqs)\n",
      "    M = numpy.exp(i * PI2 * args)\n",
      "    ys = numpy.dot(M, amps)\n",
      "    return ys\n",
      "\n",
      "amps = numpy.array([0.6, 0.25, 0.1, 0.05])\n",
      "freqs = [100, 200, 300, 400]\n",
      "framerate = 11025\n",
      "ts = numpy.linspace(0, 1, framerate)\n",
      "ys = synthesize2(amps, freqs, ts)\n",
      "\n",
      "amps2 = amps * numpy.exp(1j*numpy.asarray(freqs))\n",
      "ys2 = synthesize2(amps2, freqs, ts)"
     ],
     "language": "python",
     "metadata": {},
     "outputs": [],
     "prompt_number": 63
    },
    {
     "cell_type": "code",
     "collapsed": false,
     "input": [
      "n=400\n",
      "thinkplot.plot(ts[:n], ys.real[:n], label=r'$\\phi_0 = 0$')\n",
      "thinkplot.plot(ts[:n], ys2.real[:n], label=r'$\\phi_0 = 1$')\n",
      "thinkplot.config(ylim=[-1.15, 1.05])"
     ],
     "language": "python",
     "metadata": {},
     "outputs": [
      {
       "metadata": {},
       "output_type": "display_data",
       "png": "[encoded data removed]",
       "text": [
        "<matplotlib.figure.Figure at 0x155032b0>"
       ]
      }
     ],
     "prompt_number": 64
    },
    {
     "cell_type": "markdown",
     "metadata": {},
     "source": [
      "We can represent the sinousoud in the form Ae to the omega*t + phi, where phi is the offset. In order to offset each by the same about in time we need to multiply the offset by the frequency, because an offset of 1 radian at 400 Hz is twice as long as an offset of 1 radian at 800 Hz. Multiplying by the frequncy puts the correct scaling factor on all of the tiem domain offsets."
     ]
    },
    {
     "cell_type": "markdown",
     "metadata": {},
     "source": [
      "2) Read the Wikipedia page on DFT.  Write an implementation of DFT based on this summation and compare your results to my implementation and/or numpy.fft.fft."
     ]
    },
    {
     "cell_type": "code",
     "collapsed": false,
     "input": [
      "def analyze1(ys, freqs, ts):\n",
      "    i = complex(0, 1)\n",
      "    args = numpy.outer(ts, freqs)\n",
      "    M = numpy.exp(i * PI2 * args)\n",
      "    amps = numpy.linalg.solve(M, ys)\n",
      "    return amps\n",
      "\n",
      "def Sumdft(vals):\n",
      "    n = len(vals)\n",
      "    output = [complex(0)] * n\n",
      "    for k in range(n):\n",
      "        Sum = complex(0)\n",
      "        for t in range(n): \n",
      "            Sum += vals[t] * numpy.exp(-1j * PI2 * t * k / n)\n",
      "        output[k] = Sum\n",
      "    return output\n",
      "\n",
      "\n",
      "TS = [.1,.2,.3,.4]\n",
      "\n",
      "print numpy.fft.fft(YS)\n",
      "print Sumdft(YS)       \n",
      "    "
     ],
     "language": "python",
     "metadata": {},
     "outputs": [
      {
       "output_type": "stream",
       "stream": "stdout",
       "text": [
        "[ 1.2+0.j  0.0+0.j -0.4+0.j  0.0+0.j]\n",
        "[(1.2000000000000002+0j), (-4.5723232333212276e-17+0j), (-0.40000000000000002-1.4695761589768238e-16j), (1.3716969699963684e-16-5.5511151231257827e-17j)]\n"
       ]
      }
     ],
     "prompt_number": 48
    },
    {
     "cell_type": "markdown",
     "metadata": {},
     "source": [
      "My version of the DFT using summation and the nupy fft return very similar results, they are identical witht eh exception of rounding error on my implementation. "
     ]
    },
    {
     "cell_type": "markdown",
     "metadata": {},
     "source": [
      "3) Write the FFT:"
     ]
    },
    {
     "cell_type": "code",
     "collapsed": false,
     "input": [
      "\n",
      "def FFT(x):\n",
      "\n",
      "    N = len(x)\n",
      "    \n",
      "    if N <= 1:\n",
      "        return x\n",
      "    else:\n",
      "        X_even = FFT(x[::2])\n",
      "        X_odd = FFT(x[1::2])\n",
      "        factor = numpy.exp(-1j * PI2 * numpy.arange(N) / N)\n",
      "        return numpy.concatenate([X_even + factor[:N / 2] * X_odd,X_even + factor[N / 2:] * X_odd])\n",
      "    \n",
      "test = numpy.array([.5,.2,.4,.6])\n",
      "print FFT(test)\n",
      "print numpy.fft.fft(test)"
     ],
     "language": "python",
     "metadata": {},
     "outputs": [
      {
       "output_type": "stream",
       "stream": "stdout",
       "text": [
        "[ 1.7 +0.000e+00j  0.1 +4.000e-01j  0.1 -9.797e-17j  0.1 -4.000e-01j]\n",
        "[ 1.7+0.j   0.1+0.4j  0.1+0.j   0.1-0.4j]\n"
       ]
      }
     ],
     "prompt_number": 39
    },
    {
     "cell_type": "markdown",
     "metadata": {},
     "source": [
      "THe basic idea of the FFT is that since it takes N squared time to compute a DFT is we break the signal down into smaller and smaller waves it will only take NlogN time. THis is accomplished by dividing the signal into its even and odd components and recursively computing the DFT of it"
     ]
    },
    {
     "cell_type": "markdown",
     "metadata": {},
     "source": [
      "4) Using the timing code from PS03, compare the performance of my implementation of autocorr from Chapter 5, my fft_autocorr from Chapter 8, and numpy.correlate.  Can you tell whether NumPy is using the FFT algorithm?"
     ]
    },
    {
     "cell_type": "code",
     "collapsed": false,
     "input": [
      "def zero_pad(array, n):\n",
      "    res = numpy.zeros(n)\n",
      "    res[:len(array)] = array\n",
      "    return res\n",
      "\n",
      "def fft_convolve(signal, window):\n",
      "    fft_signal = numpy.fft.fft(signal)\n",
      "    fft_window = numpy.fft.fft(window)\n",
      "    return numpy.fft.ifft(fft_signal * fft_window)\n",
      "\n",
      "def fft_autocorr(signal):\n",
      "    N = len(signal)\n",
      "    window = signal[::-1]\n",
      "    signal = zero_pad(signal, 2*N)\n",
      "    window = zero_pad(window, 2*N)\n",
      "\n",
      "    corrs = fft_convolve(signal, window)\n",
      "    corrs = corrs[N//2: 3*N//2]\n",
      "    return corrs\n",
      "\n",
      "def corrcoef(xs, ys):\n",
      "    return numpy.corrcoef(xs, ys, ddof=0)[0, 1]\n",
      "\n",
      "def serial_corr(wave, lag=1):\n",
      "    N = len(wave)\n",
      "    y1 = wave.ys[lag:]\n",
      "    y2 = wave.ys[:N-lag]\n",
      "    corr = corrcoef(y1, y2)\n",
      "    return corr\n",
      "\n",
      "def autocorr(wave):\n",
      "    \"\"\"Computes and plots the autocorrelation function.\n",
      "\n",
      "    wave: Wave\n",
      "    \"\"\"\n",
      "    lags = range(len(wave.ys)//2)\n",
      "    corrs = [serial_corr(wave, lag) for lag in lags]\n",
      "    return lags, corrs\n",
      "\n",
      "signal = thinkdsp.UncorrelatedGaussianNoise()\n",
      "noise = signal.make_wave(duration=1.0)\n",
      "ns = 2 ** np.arange(4, 12)\n",
      "results = []\n",
      "results2 = []\n",
      "results3 = []\n",
      "wave =thinkdsp.Wave(ys,115200)\n",
      "for N in ns:\n",
      "    ts = (0.5 + np.arange(N)) / N\n",
      "    freqs = (0.5 + np.arange(N)) / 2\n",
      "    ys = noise.ys[:N]\n",
      "    result = %timeit -o fft_autocorr(ys)\n",
      "    results.append(result)\n",
      "\n",
      "for N in ns:\n",
      "    ts = (0.5 + np.arange(N)) / N\n",
      "    freqs = (0.5 + np.arange(N)) / 2\n",
      "    ys = noise.ys[:N]\n",
      "    result2 = %timeit -o autocorr(wave)\n",
      "    results2.append(result2)\n",
      "    \n",
      "for N in ns:\n",
      "    ts = (0.5 + np.arange(N)) / N\n",
      "    freqs = (0.5 + np.arange(N)) / 2\n",
      "    ys = noise.ys[:N]\n",
      "    result3 = %timeit -o numpy.correlate(ys,ys)\n",
      "    results3.append(result3)\n",
      "\n",
      "bests = [result.best for result in results]\n",
      "bests2 = [result.best for result in results2]\n",
      "bests3 = [result.best for result in results3]\n",
      "\n",
      "thinkplot.plot(ns, bests,label=\"FFt_AUtocorrelate\")\n",
      "thinkplot.plot(ns, bests2,label=\"Autcorr\")\n",
      "thinkplot.plot(ns, bests3,label=\"numpy corr\")\n",
      "thinkplot.config(xscale='log', yscale='log',legend=True,loc=\"upper left\")"
     ],
     "language": "python",
     "metadata": {},
     "outputs": [
      {
       "output_type": "stream",
       "stream": "stdout",
       "text": [
        "10000 loops, best of 3: 92.6 \u00b5s per loop\n",
        "10000 loops, best of 3: 99.9 \u00b5s per loop"
       ]
      },
      {
       "output_type": "stream",
       "stream": "stdout",
       "text": [
        "\n",
        "10000 loops, best of 3: 114 \u00b5s per loop"
       ]
      },
      {
       "output_type": "stream",
       "stream": "stdout",
       "text": [
        "\n",
        "10000 loops, best of 3: 127 \u00b5s per loop"
       ]
      },
      {
       "output_type": "stream",
       "stream": "stdout",
       "text": [
        "\n",
        "10000 loops, best of 3: 165 \u00b5s per loop"
       ]
      },
      {
       "output_type": "stream",
       "stream": "stdout",
       "text": [
        "\n",
        "1000 loops, best of 3: 253 \u00b5s per loop"
       ]
      },
      {
       "output_type": "stream",
       "stream": "stdout",
       "text": [
        "\n",
        "1000 loops, best of 3: 464 \u00b5s per loop"
       ]
      },
      {
       "output_type": "stream",
       "stream": "stdout",
       "text": [
        "\n",
        "1000 loops, best of 3: 840 \u00b5s per loop"
       ]
      },
      {
       "output_type": "stream",
       "stream": "stdout",
       "text": [
        "\n",
        "1 loops, best of 3: 251 ms per loop"
       ]
      },
      {
       "output_type": "stream",
       "stream": "stdout",
       "text": [
        "\n",
        "1 loops, best of 3: 239 ms per loop"
       ]
      },
      {
       "output_type": "stream",
       "stream": "stdout",
       "text": [
        "\n",
        "1 loops, best of 3: 206 ms per loop"
       ]
      },
      {
       "output_type": "stream",
       "stream": "stdout",
       "text": [
        "\n",
        "1 loops, best of 3: 197 ms per loop"
       ]
      },
      {
       "output_type": "stream",
       "stream": "stdout",
       "text": [
        "\n",
        "1 loops, best of 3: 201 ms per loop"
       ]
      },
      {
       "output_type": "stream",
       "stream": "stdout",
       "text": [
        "\n",
        "1 loops, best of 3: 191 ms per loop"
       ]
      },
      {
       "output_type": "stream",
       "stream": "stdout",
       "text": [
        "\n",
        "1 loops, best of 3: 195 ms per loop"
       ]
      },
      {
       "output_type": "stream",
       "stream": "stdout",
       "text": [
        "\n",
        "1 loops, best of 3: 183 ms per loop"
       ]
      },
      {
       "output_type": "stream",
       "stream": "stdout",
       "text": [
        "\n",
        "100000 loops, best of 3: 4.51 \u00b5s per loop"
       ]
      },
      {
       "output_type": "stream",
       "stream": "stdout",
       "text": [
        "\n",
        "100000 loops, best of 3: 5.56 \u00b5s per loop"
       ]
      },
      {
       "output_type": "stream",
       "stream": "stdout",
       "text": [
        "\n",
        "100000 loops, best of 3: 5.47 \u00b5s per loop"
       ]
      },
      {
       "output_type": "stream",
       "stream": "stdout",
       "text": [
        "\n",
        "100000 loops, best of 3: 5.74 \u00b5s per loop"
       ]
      },
      {
       "output_type": "stream",
       "stream": "stdout",
       "text": [
        "\n",
        "100000 loops, best of 3: 6.16 \u00b5s per loop"
       ]
      },
      {
       "output_type": "stream",
       "stream": "stdout",
       "text": [
        "\n",
        "100000 loops, best of 3: 5.89 \u00b5s per loop"
       ]
      },
      {
       "output_type": "stream",
       "stream": "stdout",
       "text": [
        "\n",
        "100000 loops, best of 3: 6.73 \u00b5s per loop"
       ]
      },
      {
       "output_type": "stream",
       "stream": "stdout",
       "text": [
        "\n",
        "100000 loops, best of 3: 7.11 \u00b5s per loop"
       ]
      },
      {
       "output_type": "stream",
       "stream": "stdout",
       "text": [
        "\n"
       ]
      },
      {
       "metadata": {},
       "output_type": "display_data",
       "png": "[encoded data removed]",
       "text": [
        "<matplotlib.figure.Figure at 0x151a3b00>"
       ]
      }
     ],
     "prompt_number": 66
    },
    {
     "cell_type": "code",
     "collapsed": false,
     "input": [
      "import scipy\n",
      "x = np.log(ns)\n",
      "y1 = np.log(bests)\n",
      "y2 = np.log(bests2)\n",
      "y3 = np.log(bests3)\n",
      "t1 = scipy.stats.linregress(x,y1)\n",
      "t2 = scipy.stats.linregress(x,y2)\n",
      "t3 = scipy.stats.linregress(x,y3)\n",
      "print t1[0], t2[0], t3[0]"
     ],
     "language": "python",
     "metadata": {},
     "outputs": [
      {
       "output_type": "stream",
       "stream": "stdout",
       "text": [
        "0.464439327879 -0.00092086281153 0.0205454351407\n"
       ]
      }
     ],
     "prompt_number": 55
    },
    {
     "cell_type": "markdown",
     "metadata": {},
     "source": [
      "I would assume that numpy is using the FFT, the results of this test are pretty much useless, why the slopes of two of them are flat is beyond my comprehension. All I know is that it is wrong. In reality using the FFT is a faster way to compute correlation so autocorr should be the slowest it has a growth order of N squared where as teh FFT is growth of nlogn, "
     ]
    },
    {
     "cell_type": "code",
     "collapsed": false,
     "input": [],
     "language": "python",
     "metadata": {},
     "outputs": []
    }
   ],
   "metadata": {}
  }
 ]
}